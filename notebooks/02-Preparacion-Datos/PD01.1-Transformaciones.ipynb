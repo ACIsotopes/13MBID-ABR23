{
 "cells": [
  {
   "cell_type": "markdown",
   "metadata": {},
   "source": [
    "## Máster en Big Data y Data Science\n",
    "\n",
    "### Metodologías de gestión y diseño de proyectos de big data\n",
    "\n",
    "#### AP2 - Preparación de los datos\n",
    "\n",
    "---\n",
    "\n",
    "En esta libreta se realizan las transforamciones sobre los datasets del escenario en función \n",
    "de los resultados de la verificación de calidad de datos. \n",
    "\n",
    "---"
   ]
  },
  {
   "cell_type": "code",
   "execution_count": 1,
   "metadata": {},
   "outputs": [],
   "source": [
    "#Se importan las librerias a utilizar\n",
    "\n",
    "import pandas as pd"
   ]
  },
  {
   "cell_type": "markdown",
   "metadata": {},
   "source": [
    "----\n",
    "\n",
    "##### Lectura de los datasets"
   ]
  },
  {
   "cell_type": "code",
   "execution_count": 2,
   "metadata": {},
   "outputs": [
    {
     "data": {
      "text/html": [
       "<div>\n",
       "<style scoped>\n",
       "    .dataframe tbody tr th:only-of-type {\n",
       "        vertical-align: middle;\n",
       "    }\n",
       "\n",
       "    .dataframe tbody tr th {\n",
       "        vertical-align: top;\n",
       "    }\n",
       "\n",
       "    .dataframe thead th {\n",
       "        text-align: right;\n",
       "    }\n",
       "</style>\n",
       "<table border=\"1\" class=\"dataframe\">\n",
       "  <thead>\n",
       "    <tr style=\"text-align: right;\">\n",
       "      <th></th>\n",
       "      <th>id_cliente</th>\n",
       "      <th>edad</th>\n",
       "      <th>importe_solicitado</th>\n",
       "      <th>duracion_credito</th>\n",
       "      <th>antiguedad_empleado</th>\n",
       "      <th>situacion_vivienda</th>\n",
       "      <th>ingresos</th>\n",
       "      <th>objetivo_credito</th>\n",
       "      <th>pct_ingreso</th>\n",
       "      <th>tasa_interes</th>\n",
       "      <th>estado_credito</th>\n",
       "      <th>falta_pago</th>\n",
       "      <th>completitud_fila</th>\n",
       "      <th>situacion_vivienda_ok</th>\n",
       "      <th>objetivo_credito_ok</th>\n",
       "    </tr>\n",
       "  </thead>\n",
       "  <tbody>\n",
       "    <tr>\n",
       "      <th>0</th>\n",
       "      <td>708082083.0</td>\n",
       "      <td>24</td>\n",
       "      <td>11000</td>\n",
       "      <td>3</td>\n",
       "      <td>5.0</td>\n",
       "      <td>HIPOTECA</td>\n",
       "      <td>64800</td>\n",
       "      <td>INVERSIONES</td>\n",
       "      <td>0.17</td>\n",
       "      <td>5.79</td>\n",
       "      <td>0</td>\n",
       "      <td>N</td>\n",
       "      <td>0.0</td>\n",
       "      <td>True</td>\n",
       "      <td>True</td>\n",
       "    </tr>\n",
       "  </tbody>\n",
       "</table>\n",
       "</div>"
      ],
      "text/plain": [
       "    id_cliente  edad  importe_solicitado  duracion_credito  \\\n",
       "0  708082083.0    24               11000                 3   \n",
       "\n",
       "   antiguedad_empleado situacion_vivienda  ingresos objetivo_credito  \\\n",
       "0                  5.0           HIPOTECA     64800      INVERSIONES   \n",
       "\n",
       "   pct_ingreso  tasa_interes  estado_credito falta_pago  completitud_fila  \\\n",
       "0         0.17          5.79               0          N               0.0   \n",
       "\n",
       "   situacion_vivienda_ok  objetivo_credito_ok  \n",
       "0                   True                 True  "
      ]
     },
     "metadata": {},
     "output_type": "display_data"
    },
    {
     "data": {
      "text/html": [
       "<div>\n",
       "<style scoped>\n",
       "    .dataframe tbody tr th:only-of-type {\n",
       "        vertical-align: middle;\n",
       "    }\n",
       "\n",
       "    .dataframe tbody tr th {\n",
       "        vertical-align: top;\n",
       "    }\n",
       "\n",
       "    .dataframe thead th {\n",
       "        text-align: right;\n",
       "    }\n",
       "</style>\n",
       "<table border=\"1\" class=\"dataframe\">\n",
       "  <thead>\n",
       "    <tr style=\"text-align: right;\">\n",
       "      <th></th>\n",
       "      <th>id_cliente</th>\n",
       "      <th>antiguedad_cliente</th>\n",
       "      <th>estado_civil</th>\n",
       "      <th>estado_cliente</th>\n",
       "      <th>gastos_ult_12m</th>\n",
       "      <th>genero</th>\n",
       "      <th>limite_credito_tc</th>\n",
       "      <th>nivel_educativo</th>\n",
       "      <th>nivel_tarjeta</th>\n",
       "      <th>operaciones_ult_12m</th>\n",
       "      <th>personas_a_cargo</th>\n",
       "      <th>estado_civil_ok</th>\n",
       "      <th>estado_cliente_ok</th>\n",
       "    </tr>\n",
       "  </thead>\n",
       "  <tbody>\n",
       "    <tr>\n",
       "      <th>0</th>\n",
       "      <td>708082083.0</td>\n",
       "      <td>36.0</td>\n",
       "      <td>CASADO</td>\n",
       "      <td>ACTIVO</td>\n",
       "      <td>15149.0</td>\n",
       "      <td>F</td>\n",
       "      <td>3544.0</td>\n",
       "      <td>SECUNDARIO_COMPLETO</td>\n",
       "      <td>Blue</td>\n",
       "      <td>111.0</td>\n",
       "      <td>3.0</td>\n",
       "      <td>True</td>\n",
       "      <td>True</td>\n",
       "    </tr>\n",
       "  </tbody>\n",
       "</table>\n",
       "</div>"
      ],
      "text/plain": [
       "    id_cliente  antiguedad_cliente estado_civil estado_cliente  \\\n",
       "0  708082083.0                36.0       CASADO         ACTIVO   \n",
       "\n",
       "   gastos_ult_12m genero  limite_credito_tc      nivel_educativo  \\\n",
       "0         15149.0      F             3544.0  SECUNDARIO_COMPLETO   \n",
       "\n",
       "  nivel_tarjeta  operaciones_ult_12m  personas_a_cargo  estado_civil_ok  \\\n",
       "0          Blue                111.0               3.0             True   \n",
       "\n",
       "   estado_cliente_ok  \n",
       "0               True  "
      ]
     },
     "metadata": {},
     "output_type": "display_data"
    },
    {
     "data": {
      "text/html": [
       "<div>\n",
       "<style scoped>\n",
       "    .dataframe tbody tr th:only-of-type {\n",
       "        vertical-align: middle;\n",
       "    }\n",
       "\n",
       "    .dataframe tbody tr th {\n",
       "        vertical-align: top;\n",
       "    }\n",
       "\n",
       "    .dataframe thead th {\n",
       "        text-align: right;\n",
       "    }\n",
       "</style>\n",
       "<table border=\"1\" class=\"dataframe\">\n",
       "  <thead>\n",
       "    <tr style=\"text-align: right;\">\n",
       "      <th></th>\n",
       "      <th>id_cliente</th>\n",
       "      <th>edad</th>\n",
       "      <th>importe_solicitado</th>\n",
       "      <th>duracion_credito</th>\n",
       "      <th>antiguedad_empleado</th>\n",
       "      <th>situacion_vivienda</th>\n",
       "      <th>ingresos</th>\n",
       "      <th>objetivo_credito</th>\n",
       "      <th>pct_ingreso</th>\n",
       "      <th>tasa_interes</th>\n",
       "      <th>...</th>\n",
       "      <th>gastos_ult_12m</th>\n",
       "      <th>genero</th>\n",
       "      <th>limite_credito_tc</th>\n",
       "      <th>nivel_educativo</th>\n",
       "      <th>nivel_tarjeta</th>\n",
       "      <th>operaciones_ult_12m</th>\n",
       "      <th>personas_a_cargo</th>\n",
       "      <th>estado_civil_ok</th>\n",
       "      <th>estado_cliente_ok</th>\n",
       "      <th>regla_pct_duracion_situacion</th>\n",
       "    </tr>\n",
       "  </thead>\n",
       "  <tbody>\n",
       "    <tr>\n",
       "      <th>0</th>\n",
       "      <td>708082083.0</td>\n",
       "      <td>24</td>\n",
       "      <td>11000</td>\n",
       "      <td>3</td>\n",
       "      <td>5.0</td>\n",
       "      <td>HIPOTECA</td>\n",
       "      <td>64800</td>\n",
       "      <td>INVERSIONES</td>\n",
       "      <td>0.17</td>\n",
       "      <td>5.79</td>\n",
       "      <td>...</td>\n",
       "      <td>15149.0</td>\n",
       "      <td>F</td>\n",
       "      <td>3544.0</td>\n",
       "      <td>SECUNDARIO_COMPLETO</td>\n",
       "      <td>Blue</td>\n",
       "      <td>111.0</td>\n",
       "      <td>3.0</td>\n",
       "      <td>True</td>\n",
       "      <td>True</td>\n",
       "      <td>ok</td>\n",
       "    </tr>\n",
       "  </tbody>\n",
       "</table>\n",
       "<p>1 rows × 28 columns</p>\n",
       "</div>"
      ],
      "text/plain": [
       "    id_cliente  edad  importe_solicitado  duracion_credito  \\\n",
       "0  708082083.0    24               11000                 3   \n",
       "\n",
       "   antiguedad_empleado situacion_vivienda  ingresos objetivo_credito  \\\n",
       "0                  5.0           HIPOTECA     64800      INVERSIONES   \n",
       "\n",
       "   pct_ingreso  tasa_interes  ...  gastos_ult_12m genero  limite_credito_tc  \\\n",
       "0         0.17          5.79  ...         15149.0      F             3544.0   \n",
       "\n",
       "       nivel_educativo  nivel_tarjeta  operaciones_ult_12m personas_a_cargo  \\\n",
       "0  SECUNDARIO_COMPLETO           Blue                111.0              3.0   \n",
       "\n",
       "  estado_civil_ok  estado_cliente_ok regla_pct_duracion_situacion  \n",
       "0            True               True                           ok  \n",
       "\n",
       "[1 rows x 28 columns]"
      ]
     },
     "metadata": {},
     "output_type": "display_data"
    }
   ],
   "source": [
    "df_creditos = pd.read_csv(\"../../data/processed/datos_creditos_mc.csv\", sep=\";\")\n",
    "display(df_creditos.head(1))\n",
    "\n",
    "df_tarjetas = pd.read_csv(\"../../data/processed/datos_tarjetas_mc.csv\", sep=\";\")\n",
    "display(df_tarjetas.head(1))\n",
    "\n",
    "df_integrado = pd.read_csv(\"../../data/processed/datos_integrados.csv\", sep=\";\")\n",
    "display(df_integrado.head(1))"
   ]
  },
  {
   "cell_type": "markdown",
   "metadata": {},
   "source": [
    "---\n",
    "#### Aplicación de transformaciones\n",
    "\n",
    "**Operaciones a realizar**\n",
    "\n",
    "1. Selección de columnas\n",
    "2. Filtrado de filas\n",
    "3. Construcción de atributos\n",
    "4. Integración de datasets\n",
    "5. Formateo definitivo\n"
   ]
  },
  {
   "cell_type": "markdown",
   "metadata": {},
   "source": [
    "----\n",
    "\n",
    "Selección de datos"
   ]
  },
  {
   "cell_type": "code",
   "execution_count": 3,
   "metadata": {},
   "outputs": [],
   "source": [
    "# Se establece qué columnas se eliminan\n",
    "\n",
    "col_eliminar_creditos = ['completitud_fila', 'situacion_vivienda_ok', 'objetivo_credito_ok', 'tasa_interes', 'antiguedad_empleado']\n",
    "col_eliminar_tarjetas = ['nivel_tarjeta', 'estado_civil_ok', 'estado_cliente_ok']\n",
    "\n",
    "# Se ejecuta la operación\n",
    "\n",
    "df_creditos.drop(col_eliminar_creditos, inplace=True, axis=1)\n",
    "df_tarjetas.drop(col_eliminar_tarjetas, inplace=True, axis=1)"
   ]
  },
  {
   "cell_type": "code",
   "execution_count": 4,
   "metadata": {},
   "outputs": [
    {
     "name": "stdout",
     "output_type": "stream",
     "text": [
      "Vista del dataset de datos de créditos:\n"
     ]
    },
    {
     "data": {
      "text/html": [
       "<div>\n",
       "<style scoped>\n",
       "    .dataframe tbody tr th:only-of-type {\n",
       "        vertical-align: middle;\n",
       "    }\n",
       "\n",
       "    .dataframe tbody tr th {\n",
       "        vertical-align: top;\n",
       "    }\n",
       "\n",
       "    .dataframe thead th {\n",
       "        text-align: right;\n",
       "    }\n",
       "</style>\n",
       "<table border=\"1\" class=\"dataframe\">\n",
       "  <thead>\n",
       "    <tr style=\"text-align: right;\">\n",
       "      <th></th>\n",
       "      <th>id_cliente</th>\n",
       "      <th>edad</th>\n",
       "      <th>importe_solicitado</th>\n",
       "      <th>duracion_credito</th>\n",
       "      <th>situacion_vivienda</th>\n",
       "      <th>ingresos</th>\n",
       "      <th>objetivo_credito</th>\n",
       "      <th>pct_ingreso</th>\n",
       "      <th>estado_credito</th>\n",
       "      <th>falta_pago</th>\n",
       "    </tr>\n",
       "  </thead>\n",
       "  <tbody>\n",
       "    <tr>\n",
       "      <th>0</th>\n",
       "      <td>708082083.0</td>\n",
       "      <td>24</td>\n",
       "      <td>11000</td>\n",
       "      <td>3</td>\n",
       "      <td>HIPOTECA</td>\n",
       "      <td>64800</td>\n",
       "      <td>INVERSIONES</td>\n",
       "      <td>0.17</td>\n",
       "      <td>0</td>\n",
       "      <td>N</td>\n",
       "    </tr>\n",
       "  </tbody>\n",
       "</table>\n",
       "</div>"
      ],
      "text/plain": [
       "    id_cliente  edad  importe_solicitado  duracion_credito situacion_vivienda  \\\n",
       "0  708082083.0    24               11000                 3           HIPOTECA   \n",
       "\n",
       "   ingresos objetivo_credito  pct_ingreso  estado_credito falta_pago  \n",
       "0     64800      INVERSIONES         0.17               0          N  "
      ]
     },
     "metadata": {},
     "output_type": "display_data"
    },
    {
     "name": "stdout",
     "output_type": "stream",
     "text": [
      "Vista del dataset de datos de tarjetas:\n"
     ]
    },
    {
     "data": {
      "text/html": [
       "<div>\n",
       "<style scoped>\n",
       "    .dataframe tbody tr th:only-of-type {\n",
       "        vertical-align: middle;\n",
       "    }\n",
       "\n",
       "    .dataframe tbody tr th {\n",
       "        vertical-align: top;\n",
       "    }\n",
       "\n",
       "    .dataframe thead th {\n",
       "        text-align: right;\n",
       "    }\n",
       "</style>\n",
       "<table border=\"1\" class=\"dataframe\">\n",
       "  <thead>\n",
       "    <tr style=\"text-align: right;\">\n",
       "      <th></th>\n",
       "      <th>id_cliente</th>\n",
       "      <th>antiguedad_cliente</th>\n",
       "      <th>estado_civil</th>\n",
       "      <th>estado_cliente</th>\n",
       "      <th>gastos_ult_12m</th>\n",
       "      <th>genero</th>\n",
       "      <th>limite_credito_tc</th>\n",
       "      <th>nivel_educativo</th>\n",
       "      <th>operaciones_ult_12m</th>\n",
       "      <th>personas_a_cargo</th>\n",
       "    </tr>\n",
       "  </thead>\n",
       "  <tbody>\n",
       "    <tr>\n",
       "      <th>0</th>\n",
       "      <td>708082083.0</td>\n",
       "      <td>36.0</td>\n",
       "      <td>CASADO</td>\n",
       "      <td>ACTIVO</td>\n",
       "      <td>15149.0</td>\n",
       "      <td>F</td>\n",
       "      <td>3544.0</td>\n",
       "      <td>SECUNDARIO_COMPLETO</td>\n",
       "      <td>111.0</td>\n",
       "      <td>3.0</td>\n",
       "    </tr>\n",
       "  </tbody>\n",
       "</table>\n",
       "</div>"
      ],
      "text/plain": [
       "    id_cliente  antiguedad_cliente estado_civil estado_cliente  \\\n",
       "0  708082083.0                36.0       CASADO         ACTIVO   \n",
       "\n",
       "   gastos_ult_12m genero  limite_credito_tc      nivel_educativo  \\\n",
       "0         15149.0      F             3544.0  SECUNDARIO_COMPLETO   \n",
       "\n",
       "   operaciones_ult_12m  personas_a_cargo  \n",
       "0                111.0               3.0  "
      ]
     },
     "metadata": {},
     "output_type": "display_data"
    }
   ],
   "source": [
    "print(\"Vista del dataset de datos de créditos:\")\n",
    "display(df_creditos.head(1))\n",
    "\n",
    "print(\"Vista del dataset de datos de tarjetas:\")\n",
    "display(df_tarjetas.head(1))"
   ]
  },
  {
   "cell_type": "markdown",
   "metadata": {},
   "source": [
    "Limpieza de los datos (filtrado a nivel de filas)"
   ]
  },
  {
   "cell_type": "markdown",
   "metadata": {},
   "source": [
    "*Dataset créditos*"
   ]
  },
  {
   "cell_type": "markdown",
   "metadata": {},
   "source": [
    "Regla 1"
   ]
  },
  {
   "cell_type": "code",
   "execution_count": 5,
   "metadata": {},
   "outputs": [
    {
     "data": {
      "text/html": [
       "<div>\n",
       "<style scoped>\n",
       "    .dataframe tbody tr th:only-of-type {\n",
       "        vertical-align: middle;\n",
       "    }\n",
       "\n",
       "    .dataframe tbody tr th {\n",
       "        vertical-align: top;\n",
       "    }\n",
       "\n",
       "    .dataframe thead th {\n",
       "        text-align: right;\n",
       "    }\n",
       "</style>\n",
       "<table border=\"1\" class=\"dataframe\">\n",
       "  <thead>\n",
       "    <tr style=\"text-align: right;\">\n",
       "      <th></th>\n",
       "      <th>id_cliente</th>\n",
       "      <th>edad</th>\n",
       "      <th>importe_solicitado</th>\n",
       "      <th>duracion_credito</th>\n",
       "      <th>situacion_vivienda</th>\n",
       "      <th>ingresos</th>\n",
       "      <th>objetivo_credito</th>\n",
       "      <th>pct_ingreso</th>\n",
       "      <th>estado_credito</th>\n",
       "      <th>falta_pago</th>\n",
       "      <th>regla_pct_ingresos</th>\n",
       "    </tr>\n",
       "  </thead>\n",
       "  <tbody>\n",
       "    <tr>\n",
       "      <th>0</th>\n",
       "      <td>708082083.0</td>\n",
       "      <td>24</td>\n",
       "      <td>11000</td>\n",
       "      <td>3</td>\n",
       "      <td>HIPOTECA</td>\n",
       "      <td>64800</td>\n",
       "      <td>INVERSIONES</td>\n",
       "      <td>0.17</td>\n",
       "      <td>0</td>\n",
       "      <td>N</td>\n",
       "      <td>ok</td>\n",
       "    </tr>\n",
       "    <tr>\n",
       "      <th>1</th>\n",
       "      <td>708083283.0</td>\n",
       "      <td>24</td>\n",
       "      <td>1500</td>\n",
       "      <td>2</td>\n",
       "      <td>ALQUILER</td>\n",
       "      <td>30996</td>\n",
       "      <td>MEJORAS_HOGAR</td>\n",
       "      <td>0.05</td>\n",
       "      <td>1</td>\n",
       "      <td>Y</td>\n",
       "      <td>ok</td>\n",
       "    </tr>\n",
       "    <tr>\n",
       "      <th>2</th>\n",
       "      <td>708084558.0</td>\n",
       "      <td>23</td>\n",
       "      <td>10000</td>\n",
       "      <td>2</td>\n",
       "      <td>OTROS</td>\n",
       "      <td>40104</td>\n",
       "      <td>EDUCACIÓN</td>\n",
       "      <td>0.25</td>\n",
       "      <td>0</td>\n",
       "      <td>Y</td>\n",
       "      <td>ok</td>\n",
       "    </tr>\n",
       "    <tr>\n",
       "      <th>3</th>\n",
       "      <td>708085458.0</td>\n",
       "      <td>25</td>\n",
       "      <td>6000</td>\n",
       "      <td>4</td>\n",
       "      <td>ALQUILER</td>\n",
       "      <td>23198</td>\n",
       "      <td>INVERSIONES</td>\n",
       "      <td>0.26</td>\n",
       "      <td>0</td>\n",
       "      <td>N</td>\n",
       "      <td>ok</td>\n",
       "    </tr>\n",
       "    <tr>\n",
       "      <th>4</th>\n",
       "      <td>708086958.0</td>\n",
       "      <td>26</td>\n",
       "      <td>10000</td>\n",
       "      <td>2</td>\n",
       "      <td>HIPOTECA</td>\n",
       "      <td>50000</td>\n",
       "      <td>EDUCACIÓN</td>\n",
       "      <td>0.20</td>\n",
       "      <td>0</td>\n",
       "      <td>N</td>\n",
       "      <td>ok</td>\n",
       "    </tr>\n",
       "  </tbody>\n",
       "</table>\n",
       "</div>"
      ],
      "text/plain": [
       "    id_cliente  edad  importe_solicitado  duracion_credito situacion_vivienda  \\\n",
       "0  708082083.0    24               11000                 3           HIPOTECA   \n",
       "1  708083283.0    24                1500                 2           ALQUILER   \n",
       "2  708084558.0    23               10000                 2              OTROS   \n",
       "3  708085458.0    25                6000                 4           ALQUILER   \n",
       "4  708086958.0    26               10000                 2           HIPOTECA   \n",
       "\n",
       "   ingresos objetivo_credito  pct_ingreso  estado_credito falta_pago  \\\n",
       "0     64800      INVERSIONES         0.17               0          N   \n",
       "1     30996    MEJORAS_HOGAR         0.05               1          Y   \n",
       "2     40104        EDUCACIÓN         0.25               0          Y   \n",
       "3     23198      INVERSIONES         0.26               0          N   \n",
       "4     50000        EDUCACIÓN         0.20               0          N   \n",
       "\n",
       "  regla_pct_ingresos  \n",
       "0                 ok  \n",
       "1                 ok  \n",
       "2                 ok  \n",
       "3                 ok  \n",
       "4                 ok  "
      ]
     },
     "execution_count": 5,
     "metadata": {},
     "output_type": "execute_result"
    }
   ],
   "source": [
    "#Se puede definir una función para aplicar los cálculos\n",
    "def regla_pct_ingresos_credito(row):\n",
    "    pct_ingreso = row.pct_ingreso\n",
    "    ingresos = row.ingresos\n",
    "    \n",
    "    if pct_ingreso > 0.5 and ingresos <= 20000:\n",
    "        # Es un error, no cumple la regla definida\n",
    "        return 'err'\n",
    "    else:\n",
    "        return 'ok'\n",
    "\n",
    "\n",
    "# Se aplica la función para todos los elementos del dataset\n",
    "regla_pct_ingresos = df_creditos.apply(lambda row: regla_pct_ingresos_credito(row), axis=1).rename(\"regla_pct_ingresos\")\n",
    "\n",
    "# Se unen los resultados al dataset inicial\n",
    "df_creditos = pd.concat([df_creditos, regla_pct_ingresos], axis=1)\n",
    "df_creditos.head(5)  "
   ]
  },
  {
   "cell_type": "code",
   "execution_count": 6,
   "metadata": {},
   "outputs": [
    {
     "data": {
      "text/plain": [
       "15"
      ]
     },
     "execution_count": 6,
     "metadata": {},
     "output_type": "execute_result"
    }
   ],
   "source": [
    "df_creditos[df_creditos['regla_pct_ingresos'] == 'err'].shape[0]"
   ]
  },
  {
   "cell_type": "markdown",
   "metadata": {},
   "source": [
    "Regla 2"
   ]
  },
  {
   "cell_type": "code",
   "execution_count": 7,
   "metadata": {},
   "outputs": [
    {
     "data": {
      "text/html": [
       "<div>\n",
       "<style scoped>\n",
       "    .dataframe tbody tr th:only-of-type {\n",
       "        vertical-align: middle;\n",
       "    }\n",
       "\n",
       "    .dataframe tbody tr th {\n",
       "        vertical-align: top;\n",
       "    }\n",
       "\n",
       "    .dataframe thead th {\n",
       "        text-align: right;\n",
       "    }\n",
       "</style>\n",
       "<table border=\"1\" class=\"dataframe\">\n",
       "  <thead>\n",
       "    <tr style=\"text-align: right;\">\n",
       "      <th></th>\n",
       "      <th>id_cliente</th>\n",
       "      <th>edad</th>\n",
       "      <th>importe_solicitado</th>\n",
       "      <th>duracion_credito</th>\n",
       "      <th>situacion_vivienda</th>\n",
       "      <th>ingresos</th>\n",
       "      <th>objetivo_credito</th>\n",
       "      <th>pct_ingreso</th>\n",
       "      <th>estado_credito</th>\n",
       "      <th>falta_pago</th>\n",
       "      <th>regla_pct_ingresos</th>\n",
       "      <th>regla_2</th>\n",
       "    </tr>\n",
       "  </thead>\n",
       "  <tbody>\n",
       "    <tr>\n",
       "      <th>0</th>\n",
       "      <td>708082083.0</td>\n",
       "      <td>24</td>\n",
       "      <td>11000</td>\n",
       "      <td>3</td>\n",
       "      <td>HIPOTECA</td>\n",
       "      <td>64800</td>\n",
       "      <td>INVERSIONES</td>\n",
       "      <td>0.17</td>\n",
       "      <td>0</td>\n",
       "      <td>N</td>\n",
       "      <td>ok</td>\n",
       "      <td>ok</td>\n",
       "    </tr>\n",
       "    <tr>\n",
       "      <th>1</th>\n",
       "      <td>708083283.0</td>\n",
       "      <td>24</td>\n",
       "      <td>1500</td>\n",
       "      <td>2</td>\n",
       "      <td>ALQUILER</td>\n",
       "      <td>30996</td>\n",
       "      <td>MEJORAS_HOGAR</td>\n",
       "      <td>0.05</td>\n",
       "      <td>1</td>\n",
       "      <td>Y</td>\n",
       "      <td>ok</td>\n",
       "      <td>ok</td>\n",
       "    </tr>\n",
       "    <tr>\n",
       "      <th>2</th>\n",
       "      <td>708084558.0</td>\n",
       "      <td>23</td>\n",
       "      <td>10000</td>\n",
       "      <td>2</td>\n",
       "      <td>OTROS</td>\n",
       "      <td>40104</td>\n",
       "      <td>EDUCACIÓN</td>\n",
       "      <td>0.25</td>\n",
       "      <td>0</td>\n",
       "      <td>Y</td>\n",
       "      <td>ok</td>\n",
       "      <td>ok</td>\n",
       "    </tr>\n",
       "    <tr>\n",
       "      <th>3</th>\n",
       "      <td>708085458.0</td>\n",
       "      <td>25</td>\n",
       "      <td>6000</td>\n",
       "      <td>4</td>\n",
       "      <td>ALQUILER</td>\n",
       "      <td>23198</td>\n",
       "      <td>INVERSIONES</td>\n",
       "      <td>0.26</td>\n",
       "      <td>0</td>\n",
       "      <td>N</td>\n",
       "      <td>ok</td>\n",
       "      <td>ok</td>\n",
       "    </tr>\n",
       "    <tr>\n",
       "      <th>4</th>\n",
       "      <td>708086958.0</td>\n",
       "      <td>26</td>\n",
       "      <td>10000</td>\n",
       "      <td>2</td>\n",
       "      <td>HIPOTECA</td>\n",
       "      <td>50000</td>\n",
       "      <td>EDUCACIÓN</td>\n",
       "      <td>0.20</td>\n",
       "      <td>0</td>\n",
       "      <td>N</td>\n",
       "      <td>ok</td>\n",
       "      <td>ok</td>\n",
       "    </tr>\n",
       "  </tbody>\n",
       "</table>\n",
       "</div>"
      ],
      "text/plain": [
       "    id_cliente  edad  importe_solicitado  duracion_credito situacion_vivienda  \\\n",
       "0  708082083.0    24               11000                 3           HIPOTECA   \n",
       "1  708083283.0    24                1500                 2           ALQUILER   \n",
       "2  708084558.0    23               10000                 2              OTROS   \n",
       "3  708085458.0    25                6000                 4           ALQUILER   \n",
       "4  708086958.0    26               10000                 2           HIPOTECA   \n",
       "\n",
       "   ingresos objetivo_credito  pct_ingreso  estado_credito falta_pago  \\\n",
       "0     64800      INVERSIONES         0.17               0          N   \n",
       "1     30996    MEJORAS_HOGAR         0.05               1          Y   \n",
       "2     40104        EDUCACIÓN         0.25               0          Y   \n",
       "3     23198      INVERSIONES         0.26               0          N   \n",
       "4     50000        EDUCACIÓN         0.20               0          N   \n",
       "\n",
       "  regla_pct_ingresos regla_2  \n",
       "0                 ok      ok  \n",
       "1                 ok      ok  \n",
       "2                 ok      ok  \n",
       "3                 ok      ok  \n",
       "4                 ok      ok  "
      ]
     },
     "execution_count": 7,
     "metadata": {},
     "output_type": "execute_result"
    }
   ],
   "source": [
    "def regla_2(row):\n",
    "    pct_ingreso = row.pct_ingreso\n",
    "    duracion = row.duracion_credito\n",
    "    situacion_vivienda = row.situacion_vivienda\n",
    "    \n",
    "    if duracion == 2 and pct_ingreso > 0.6 and situacion_vivienda != 'PROPIA':\n",
    "        # Es un error, no cumple la regla definida\n",
    "        return 'err'\n",
    "    else:\n",
    "        return 'ok'\n",
    "\n",
    "# Se aplica la función para todos los elementos del dataset\n",
    "regla_2 = df_creditos.apply(lambda row: regla_2(row), axis=1).rename(\"regla_2\")\n",
    "\n",
    "# Se unen los resultados al dataset inicial\n",
    "df_creditos = pd.concat([df_creditos, regla_2], axis=1)\n",
    "df_creditos.head(5)  "
   ]
  },
  {
   "cell_type": "code",
   "execution_count": 8,
   "metadata": {},
   "outputs": [
    {
     "data": {
      "text/plain": [
       "7"
      ]
     },
     "execution_count": 8,
     "metadata": {},
     "output_type": "execute_result"
    }
   ],
   "source": [
    "df_creditos[df_creditos['regla_2'] == 'err'].shape[0]"
   ]
  },
  {
   "cell_type": "code",
   "execution_count": 9,
   "metadata": {},
   "outputs": [
    {
     "name": "stdout",
     "output_type": "stream",
     "text": [
      "Filas antes del filtro: 10127\n",
      "Filas después del filtro: 10103\n"
     ]
    }
   ],
   "source": [
    "# Se filtran las filas con algún error detectado\n",
    "print(f\"Filas antes del filtro: {df_creditos.shape[0]}\")\n",
    "\n",
    "temp = df_creditos[df_creditos['edad'] < 90]\n",
    "\n",
    "# Otro filtro posible: por la regla de negocio agregada\n",
    "\n",
    "temp_c = temp[temp['regla_pct_ingresos'] == 'ok']\n",
    "temp_cc = temp_c[temp_c['regla_2'] == 'ok']\n",
    "\n",
    "print(f\"Filas después del filtro: {temp_cc.shape[0]}\")"
   ]
  },
  {
   "cell_type": "markdown",
   "metadata": {},
   "source": [
    "*Dataset tarjetas*"
   ]
  },
  {
   "cell_type": "code",
   "execution_count": 12,
   "metadata": {},
   "outputs": [
    {
     "name": "stdout",
     "output_type": "stream",
     "text": [
      "Filas antes del filtro: 10127\n",
      "Filas después del filtro: 9619\n",
      "Filas filtradas: 508\n"
     ]
    }
   ],
   "source": [
    "# Se filtran las filas con algún error detectado\n",
    "print(f\"Filas antes del filtro: {df_tarjetas.shape[0]}\")\n",
    "\n",
    "temp_t = df_tarjetas[df_tarjetas['limite_credito_tc'] != 34516]\n",
    "\n",
    "print(f\"Filas después del filtro: {temp_t.shape[0]}\")\n",
    "\n",
    "print(f\"Filas filtradas: {df_tarjetas.shape[0] - temp_t.shape[0]}\")"
   ]
  },
  {
   "cell_type": "markdown",
   "metadata": {},
   "source": [
    "Integración de datos"
   ]
  },
  {
   "cell_type": "code",
   "execution_count": 13,
   "metadata": {},
   "outputs": [
    {
     "name": "stdout",
     "output_type": "stream",
     "text": [
      "Filas del dataset integrado con los filtros realizados: 9595\n"
     ]
    }
   ],
   "source": [
    "df_integrado = pd.merge(temp_cc, temp_t, on='id_cliente', how='inner')\n",
    "coincidencias = df_integrado.shape[0]\n",
    "\n",
    "print(f\"Filas del dataset integrado con los filtros realizados: {coincidencias}\")"
   ]
  },
  {
   "cell_type": "code",
   "execution_count": 14,
   "metadata": {},
   "outputs": [
    {
     "name": "stdout",
     "output_type": "stream",
     "text": [
      "Cantidad de columnas del dataset integrado: 21\n"
     ]
    }
   ],
   "source": [
    "print(f\"Cantidad de columnas del dataset integrado: {df_integrado.shape[1]}\")"
   ]
  },
  {
   "cell_type": "markdown",
   "metadata": {},
   "source": [
    "#### Transformación de atributos\n",
    "\n",
    "Atributos nominales que se modifican los valores"
   ]
  },
  {
   "cell_type": "code",
   "execution_count": 15,
   "metadata": {},
   "outputs": [
    {
     "data": {
      "text/html": [
       "<div>\n",
       "<style scoped>\n",
       "    .dataframe tbody tr th:only-of-type {\n",
       "        vertical-align: middle;\n",
       "    }\n",
       "\n",
       "    .dataframe tbody tr th {\n",
       "        vertical-align: top;\n",
       "    }\n",
       "\n",
       "    .dataframe thead th {\n",
       "        text-align: right;\n",
       "    }\n",
       "</style>\n",
       "<table border=\"1\" class=\"dataframe\">\n",
       "  <thead>\n",
       "    <tr style=\"text-align: right;\">\n",
       "      <th></th>\n",
       "      <th>estado_civil_N</th>\n",
       "      <th>estado_credito_N</th>\n",
       "      <th>id_cliente</th>\n",
       "      <th>edad</th>\n",
       "      <th>importe_solicitado</th>\n",
       "      <th>duracion_credito</th>\n",
       "      <th>situacion_vivienda</th>\n",
       "      <th>ingresos</th>\n",
       "      <th>objetivo_credito</th>\n",
       "      <th>pct_ingreso</th>\n",
       "      <th>...</th>\n",
       "      <th>regla_2</th>\n",
       "      <th>antiguedad_cliente</th>\n",
       "      <th>estado_civil</th>\n",
       "      <th>estado_cliente</th>\n",
       "      <th>gastos_ult_12m</th>\n",
       "      <th>genero</th>\n",
       "      <th>limite_credito_tc</th>\n",
       "      <th>nivel_educativo</th>\n",
       "      <th>operaciones_ult_12m</th>\n",
       "      <th>personas_a_cargo</th>\n",
       "    </tr>\n",
       "  </thead>\n",
       "  <tbody>\n",
       "    <tr>\n",
       "      <th>0</th>\n",
       "      <td>C</td>\n",
       "      <td>C</td>\n",
       "      <td>708082083.0</td>\n",
       "      <td>24</td>\n",
       "      <td>11000</td>\n",
       "      <td>3</td>\n",
       "      <td>HIPOTECA</td>\n",
       "      <td>64800</td>\n",
       "      <td>INVERSIONES</td>\n",
       "      <td>0.17</td>\n",
       "      <td>...</td>\n",
       "      <td>ok</td>\n",
       "      <td>36.0</td>\n",
       "      <td>CASADO</td>\n",
       "      <td>ACTIVO</td>\n",
       "      <td>15149.0</td>\n",
       "      <td>F</td>\n",
       "      <td>3544.0</td>\n",
       "      <td>SECUNDARIO_COMPLETO</td>\n",
       "      <td>111.0</td>\n",
       "      <td>3.0</td>\n",
       "    </tr>\n",
       "    <tr>\n",
       "      <th>1</th>\n",
       "      <td>S</td>\n",
       "      <td>P</td>\n",
       "      <td>708083283.0</td>\n",
       "      <td>24</td>\n",
       "      <td>1500</td>\n",
       "      <td>2</td>\n",
       "      <td>ALQUILER</td>\n",
       "      <td>30996</td>\n",
       "      <td>MEJORAS_HOGAR</td>\n",
       "      <td>0.05</td>\n",
       "      <td>...</td>\n",
       "      <td>ok</td>\n",
       "      <td>45.0</td>\n",
       "      <td>SOLTERO</td>\n",
       "      <td>PASIVO</td>\n",
       "      <td>992.0</td>\n",
       "      <td>M</td>\n",
       "      <td>3421.0</td>\n",
       "      <td>DESCONOCIDO</td>\n",
       "      <td>21.0</td>\n",
       "      <td>0.0</td>\n",
       "    </tr>\n",
       "    <tr>\n",
       "      <th>2</th>\n",
       "      <td>D</td>\n",
       "      <td>C</td>\n",
       "      <td>708084558.0</td>\n",
       "      <td>23</td>\n",
       "      <td>10000</td>\n",
       "      <td>2</td>\n",
       "      <td>OTROS</td>\n",
       "      <td>40104</td>\n",
       "      <td>EDUCACIÓN</td>\n",
       "      <td>0.25</td>\n",
       "      <td>...</td>\n",
       "      <td>ok</td>\n",
       "      <td>38.0</td>\n",
       "      <td>DIVORCIADO</td>\n",
       "      <td>PASIVO</td>\n",
       "      <td>1447.0</td>\n",
       "      <td>M</td>\n",
       "      <td>8258.0</td>\n",
       "      <td>POSGRADO_COMPLETO</td>\n",
       "      <td>23.0</td>\n",
       "      <td>3.0</td>\n",
       "    </tr>\n",
       "    <tr>\n",
       "      <th>3</th>\n",
       "      <td>S</td>\n",
       "      <td>C</td>\n",
       "      <td>708085458.0</td>\n",
       "      <td>25</td>\n",
       "      <td>6000</td>\n",
       "      <td>4</td>\n",
       "      <td>ALQUILER</td>\n",
       "      <td>23198</td>\n",
       "      <td>INVERSIONES</td>\n",
       "      <td>0.26</td>\n",
       "      <td>...</td>\n",
       "      <td>ok</td>\n",
       "      <td>24.0</td>\n",
       "      <td>SOLTERO</td>\n",
       "      <td>ACTIVO</td>\n",
       "      <td>3940.0</td>\n",
       "      <td>F</td>\n",
       "      <td>1438.3</td>\n",
       "      <td>UNIVERSITARIO_INCOMPLETO</td>\n",
       "      <td>82.0</td>\n",
       "      <td>2.0</td>\n",
       "    </tr>\n",
       "    <tr>\n",
       "      <th>4</th>\n",
       "      <td>C</td>\n",
       "      <td>C</td>\n",
       "      <td>708086958.0</td>\n",
       "      <td>26</td>\n",
       "      <td>10000</td>\n",
       "      <td>2</td>\n",
       "      <td>HIPOTECA</td>\n",
       "      <td>50000</td>\n",
       "      <td>EDUCACIÓN</td>\n",
       "      <td>0.20</td>\n",
       "      <td>...</td>\n",
       "      <td>ok</td>\n",
       "      <td>41.0</td>\n",
       "      <td>CASADO</td>\n",
       "      <td>ACTIVO</td>\n",
       "      <td>4369.0</td>\n",
       "      <td>F</td>\n",
       "      <td>3128.0</td>\n",
       "      <td>UNIVERSITARIO_INCOMPLETO</td>\n",
       "      <td>59.0</td>\n",
       "      <td>2.0</td>\n",
       "    </tr>\n",
       "  </tbody>\n",
       "</table>\n",
       "<p>5 rows × 23 columns</p>\n",
       "</div>"
      ],
      "text/plain": [
       "  estado_civil_N estado_credito_N   id_cliente  edad  importe_solicitado  \\\n",
       "0              C                C  708082083.0    24               11000   \n",
       "1              S                P  708083283.0    24                1500   \n",
       "2              D                C  708084558.0    23               10000   \n",
       "3              S                C  708085458.0    25                6000   \n",
       "4              C                C  708086958.0    26               10000   \n",
       "\n",
       "   duracion_credito situacion_vivienda  ingresos objetivo_credito  \\\n",
       "0                 3           HIPOTECA     64800      INVERSIONES   \n",
       "1                 2           ALQUILER     30996    MEJORAS_HOGAR   \n",
       "2                 2              OTROS     40104        EDUCACIÓN   \n",
       "3                 4           ALQUILER     23198      INVERSIONES   \n",
       "4                 2           HIPOTECA     50000        EDUCACIÓN   \n",
       "\n",
       "   pct_ingreso  ...  regla_2 antiguedad_cliente estado_civil estado_cliente  \\\n",
       "0         0.17  ...       ok               36.0       CASADO         ACTIVO   \n",
       "1         0.05  ...       ok               45.0      SOLTERO         PASIVO   \n",
       "2         0.25  ...       ok               38.0   DIVORCIADO         PASIVO   \n",
       "3         0.26  ...       ok               24.0      SOLTERO         ACTIVO   \n",
       "4         0.20  ...       ok               41.0       CASADO         ACTIVO   \n",
       "\n",
       "   gastos_ult_12m genero limite_credito_tc           nivel_educativo  \\\n",
       "0         15149.0      F            3544.0       SECUNDARIO_COMPLETO   \n",
       "1           992.0      M            3421.0               DESCONOCIDO   \n",
       "2          1447.0      M            8258.0         POSGRADO_COMPLETO   \n",
       "3          3940.0      F            1438.3  UNIVERSITARIO_INCOMPLETO   \n",
       "4          4369.0      F            3128.0  UNIVERSITARIO_INCOMPLETO   \n",
       "\n",
       "  operaciones_ult_12m  personas_a_cargo  \n",
       "0               111.0               3.0  \n",
       "1                21.0               0.0  \n",
       "2                23.0               3.0  \n",
       "3                82.0               2.0  \n",
       "4                59.0               2.0  \n",
       "\n",
       "[5 rows x 23 columns]"
      ]
     },
     "execution_count": 15,
     "metadata": {},
     "output_type": "execute_result"
    }
   ],
   "source": [
    "# Columna: estado_civil\n",
    "cambios_estado_civil = {\n",
    "    'CASADO' : 'C',\n",
    "    'SOLTERO' : 'S',\n",
    "    'DESCONOCIDO' : 'N',\n",
    "    'DIVORCIADO' : 'D',\n",
    "}\n",
    "\n",
    "estado_civil_N = df_integrado.loc[:, ('estado_civil')].map(cambios_estado_civil).rename('estado_civil_N')\n",
    "\n",
    "# Columna: estado_credito\n",
    "cambios_estado_credito = {\n",
    "    0: 'C',\n",
    "    1 : 'P',\n",
    "}\n",
    "\n",
    "estado_credito_N = df_integrado.loc[:, ('estado_credito')].map(cambios_estado_credito).rename('estado_credito_N')\n",
    "\n",
    "df_integrado = pd.concat([estado_civil_N, estado_credito_N, df_integrado], axis=1)\n",
    "df_integrado.head()\n",
    "\n",
    "# Sobre este resultado será necesario eliminar las columnas auxiliares"
   ]
  },
  {
   "cell_type": "markdown",
   "metadata": {},
   "source": [
    "Atributos numéricos que se discretizan"
   ]
  },
  {
   "cell_type": "code",
   "execution_count": 17,
   "metadata": {},
   "outputs": [
    {
     "data": {
      "text/plain": [
       "count    9595.000000\n",
       "mean       23.520271\n",
       "std         1.512880\n",
       "min        20.000000\n",
       "25%        22.000000\n",
       "50%        23.000000\n",
       "75%        25.000000\n",
       "max        26.000000\n",
       "Name: edad, dtype: float64"
      ]
     },
     "execution_count": 17,
     "metadata": {},
     "output_type": "execute_result"
    }
   ],
   "source": [
    "df_integrado['edad'].describe()"
   ]
  },
  {
   "cell_type": "code",
   "execution_count": 18,
   "metadata": {},
   "outputs": [
    {
     "data": {
      "text/plain": [
       "edad\n",
       "menor_25    6802\n",
       "25_a_30     2793\n",
       "Name: count, dtype: int64"
      ]
     },
     "execution_count": 18,
     "metadata": {},
     "output_type": "execute_result"
    }
   ],
   "source": [
    "# edad\n",
    "\n",
    "etiquetas_e = ['menor_25', '25_a_30']\n",
    "rangos_e = [0, 24, 50]\n",
    "edad_N = pd.cut(df_integrado['edad'], \n",
    "                                bins=rangos_e, \n",
    "                                labels=etiquetas_e)\n",
    "\n",
    "edad_N.value_counts()"
   ]
  },
  {
   "cell_type": "code",
   "execution_count": 19,
   "metadata": {},
   "outputs": [
    {
     "data": {
      "text/plain": [
       "count      9595.000000\n",
       "mean      50087.002084\n",
       "std       28183.523250\n",
       "min        9600.000000\n",
       "25%       33600.000000\n",
       "50%       46000.000000\n",
       "75%       59000.000000\n",
       "max      500000.000000\n",
       "Name: ingresos, dtype: float64"
      ]
     },
     "execution_count": 19,
     "metadata": {},
     "output_type": "execute_result"
    }
   ],
   "source": [
    "df_integrado['ingresos'].describe()"
   ]
  },
  {
   "cell_type": "code",
   "execution_count": 20,
   "metadata": {},
   "outputs": [
    {
     "data": {
      "text/plain": [
       "ingresos\n",
       "20k_a_50k     4959\n",
       "50k_a_100k    3757\n",
       "hasta_20k      451\n",
       "mayor_100k     428\n",
       "Name: count, dtype: int64"
      ]
     },
     "execution_count": 20,
     "metadata": {},
     "output_type": "execute_result"
    }
   ],
   "source": [
    "# ingresos\n",
    "\n",
    "etiquetas_i = ['hasta_20k', '20k_a_50k', '50k_a_100k', 'mayor_100k']\n",
    "rangos_i = [0, 19999, 49999, 99999, 999999]\n",
    "ingresos_N = pd.cut(df_integrado['ingresos'], \n",
    "                                bins=rangos_i, \n",
    "                                labels=etiquetas_i)\n",
    "\n",
    "ingresos_N.value_counts()"
   ]
  },
  {
   "cell_type": "code",
   "execution_count": 21,
   "metadata": {},
   "outputs": [
    {
     "data": {
      "text/plain": [
       "count    9595.000000\n",
       "mean        0.176271\n",
       "std         0.108138\n",
       "min         0.010000\n",
       "25%         0.100000\n",
       "50%         0.150000\n",
       "75%         0.240000\n",
       "max         0.710000\n",
       "Name: pct_ingreso, dtype: float64"
      ]
     },
     "execution_count": 21,
     "metadata": {},
     "output_type": "execute_result"
    }
   ],
   "source": [
    "df_integrado['pct_ingreso'].describe()"
   ]
  },
  {
   "cell_type": "code",
   "execution_count": 27,
   "metadata": {},
   "outputs": [
    {
     "data": {
      "text/plain": [
       "pct_ingreso\n",
       "hasta_20    6130\n",
       "20_a_40     3018\n",
       "40_a_60      432\n",
       "mayor_60      15\n",
       "Name: count, dtype: int64"
      ]
     },
     "execution_count": 27,
     "metadata": {},
     "output_type": "execute_result"
    }
   ],
   "source": [
    "# pct_ingreso\n",
    "\n",
    "etiquetas_p_i = ['hasta_20', '20_a_40', '40_a_60', 'mayor_60']\n",
    "rangos_p_i = [0, 0.19, 0.39, 0.59, 0.99]\n",
    "pct_ingreso_N = pd.cut(df_integrado['pct_ingreso'], \n",
    "                                bins=rangos_p_i, \n",
    "                                labels=etiquetas_p_i)\n",
    "\n",
    "pct_ingreso_N.value_counts()"
   ]
  },
  {
   "cell_type": "code",
   "execution_count": 23,
   "metadata": {},
   "outputs": [
    {
     "data": {
      "text/plain": [
       "count    9595.000000\n",
       "mean       35.914747\n",
       "std         8.056776\n",
       "min        13.000000\n",
       "25%        31.000000\n",
       "50%        36.000000\n",
       "75%        40.000000\n",
       "max        56.000000\n",
       "Name: antiguedad_cliente, dtype: float64"
      ]
     },
     "execution_count": 23,
     "metadata": {},
     "output_type": "execute_result"
    }
   ],
   "source": [
    "df_integrado['antiguedad_cliente'].describe()"
   ]
  },
  {
   "cell_type": "code",
   "execution_count": 24,
   "metadata": {},
   "outputs": [
    {
     "data": {
      "text/plain": [
       "antiguedad_cliente\n",
       "2y_a_4y     8143\n",
       "menor_2y     818\n",
       "mayor_4y     634\n",
       "Name: count, dtype: int64"
      ]
     },
     "execution_count": 24,
     "metadata": {},
     "output_type": "execute_result"
    }
   ],
   "source": [
    "# antiguedad_cliente\n",
    "\n",
    "etiquetas_a_c = ['menor_2y', '2y_a_4y', 'mayor_4y']\n",
    "rangos_a_c = [0, 24, 48, 100]\n",
    "antiguedad_cliente_N = pd.cut(df_integrado['antiguedad_cliente'], \n",
    "                                bins=rangos_a_c, \n",
    "                                labels=etiquetas_a_c)\n",
    "\n",
    "antiguedad_cliente_N.value_counts()"
   ]
  },
  {
   "cell_type": "code",
   "execution_count": 25,
   "metadata": {},
   "outputs": [
    {
     "data": {
      "text/plain": [
       "count     9595.000000\n",
       "mean      4317.476290\n",
       "std       3298.325955\n",
       "min        510.000000\n",
       "25%       2152.000000\n",
       "50%       3890.000000\n",
       "75%       4708.500000\n",
       "max      18484.000000\n",
       "Name: gastos_ult_12m, dtype: float64"
      ]
     },
     "execution_count": 25,
     "metadata": {},
     "output_type": "execute_result"
    }
   ],
   "source": [
    "df_integrado['gastos_ult_12m'].describe()"
   ]
  },
  {
   "cell_type": "code",
   "execution_count": 26,
   "metadata": {},
   "outputs": [
    {
     "data": {
      "text/plain": [
       "gastos_ult_12m\n",
       "2k_a_4k      4872\n",
       "4k_a_6k      3319\n",
       "mayor_10k     663\n",
       "6k_a_8k       296\n",
       "8k_a_10k      287\n",
       "menor_1k      158\n",
       "Name: count, dtype: int64"
      ]
     },
     "execution_count": 26,
     "metadata": {},
     "output_type": "execute_result"
    }
   ],
   "source": [
    "# gastos_ult_12m\n",
    "\n",
    "etiquetas_g_u12 = ['menor_1k', '1k_a_4k', '4k_a_6k', '6k_a_8k', '8k_a_10k', 'mayor_10k']\n",
    "rangos_g_u12 = [0, 999, 3999, 5999, 7999, 9999, 100000]\n",
    "gastos_ult_12m_N = pd.cut(df_integrado['gastos_ult_12m'], \n",
    "                                bins=rangos_g_u12, \n",
    "                                labels=etiquetas_g_u12)\n",
    "\n",
    "gastos_ult_12m_N.value_counts()"
   ]
  },
  {
   "cell_type": "code",
   "execution_count": 28,
   "metadata": {},
   "outputs": [
    {
     "data": {
      "text/plain": [
       "count     9595.000000\n",
       "mean      7260.316217\n",
       "std       7046.150341\n",
       "min       1438.300000\n",
       "25%       2492.000000\n",
       "50%       4199.000000\n",
       "75%       9503.500000\n",
       "max      34496.000000\n",
       "Name: limite_credito_tc, dtype: float64"
      ]
     },
     "execution_count": 28,
     "metadata": {},
     "output_type": "execute_result"
    }
   ],
   "source": [
    "df_integrado['limite_credito_tc'].describe()"
   ]
  },
  {
   "cell_type": "code",
   "execution_count": 29,
   "metadata": {},
   "outputs": [
    {
     "data": {
      "text/plain": [
       "limite_credito_tc\n",
       "menor_3k     3432\n",
       "mayor_10k    2239\n",
       "5k_a_10k     2009\n",
       "3k_a_5k      1915\n",
       "Name: count, dtype: int64"
      ]
     },
     "execution_count": 29,
     "metadata": {},
     "output_type": "execute_result"
    }
   ],
   "source": [
    "# limite_credito_tc\n",
    "\n",
    "etiquetas_l_tc = ['menor_3k', '3k_a_5k', '5k_a_10k', 'mayor_10k']\n",
    "rangos_l_tc = [0, 2999, 4999, 9999, 100000]\n",
    "limite_credito_tc_N = pd.cut(df_integrado['limite_credito_tc'], \n",
    "                                bins=rangos_l_tc, \n",
    "                                labels=etiquetas_l_tc)\n",
    "\n",
    "limite_credito_tc_N.value_counts()"
   ]
  },
  {
   "cell_type": "code",
   "execution_count": 30,
   "metadata": {},
   "outputs": [
    {
     "data": {
      "text/plain": [
       "count    9595.000000\n",
       "mean       64.513809\n",
       "std        23.190115\n",
       "min        10.000000\n",
       "25%        45.000000\n",
       "50%        67.000000\n",
       "75%        80.000000\n",
       "max       138.000000\n",
       "Name: operaciones_ult_12m, dtype: float64"
      ]
     },
     "execution_count": 30,
     "metadata": {},
     "output_type": "execute_result"
    }
   ],
   "source": [
    "df_integrado['operaciones_ult_12m'].describe()"
   ]
  },
  {
   "cell_type": "code",
   "execution_count": 31,
   "metadata": {},
   "outputs": [
    {
     "data": {
      "text/plain": [
       "operaciones_ult_12m\n",
       "50_a_75      3227\n",
       "75_a_100     2870\n",
       "30_a_50      2319\n",
       "mayor_100     594\n",
       "15_a_30       564\n",
       "menor_15       21\n",
       "Name: count, dtype: int64"
      ]
     },
     "execution_count": 31,
     "metadata": {},
     "output_type": "execute_result"
    }
   ],
   "source": [
    "# operaciones_ult_12m\n",
    "\n",
    "etiquetas_o_u12 = ['menor_15', '15_a_30', '30_a_50', '50_a_75', '75_a_100', 'mayor_100']\n",
    "rangos_o_u12 = [0, 14, 29, 49, 74, 99, 1000]\n",
    "operaciones_ult_12m_N = pd.cut(df_integrado['operaciones_ult_12m'], \n",
    "                                bins=rangos_o_u12, \n",
    "                                labels=etiquetas_o_u12)\n",
    "\n",
    "operaciones_ult_12m_N.value_counts()"
   ]
  },
  {
   "cell_type": "code",
   "execution_count": 32,
   "metadata": {},
   "outputs": [
    {
     "data": {
      "text/plain": [
       "Index(['estado_civil_N', 'estado_credito_N', 'id_cliente', 'edad',\n",
       "       'importe_solicitado', 'duracion_credito', 'situacion_vivienda',\n",
       "       'ingresos', 'objetivo_credito', 'pct_ingreso', 'estado_credito',\n",
       "       'falta_pago', 'regla_pct_ingresos', 'regla_2', 'antiguedad_cliente',\n",
       "       'estado_civil', 'estado_cliente', 'gastos_ult_12m', 'genero',\n",
       "       'limite_credito_tc', 'nivel_educativo', 'operaciones_ult_12m',\n",
       "       'personas_a_cargo'],\n",
       "      dtype='object')"
      ]
     },
     "execution_count": 32,
     "metadata": {},
     "output_type": "execute_result"
    }
   ],
   "source": [
    "df_integrado.columns"
   ]
  },
  {
   "cell_type": "code",
   "execution_count": 33,
   "metadata": {},
   "outputs": [
    {
     "data": {
      "text/html": [
       "<div>\n",
       "<style scoped>\n",
       "    .dataframe tbody tr th:only-of-type {\n",
       "        vertical-align: middle;\n",
       "    }\n",
       "\n",
       "    .dataframe tbody tr th {\n",
       "        vertical-align: top;\n",
       "    }\n",
       "\n",
       "    .dataframe thead th {\n",
       "        text-align: right;\n",
       "    }\n",
       "</style>\n",
       "<table border=\"1\" class=\"dataframe\">\n",
       "  <thead>\n",
       "    <tr style=\"text-align: right;\">\n",
       "      <th></th>\n",
       "      <th>operaciones_ult_12m</th>\n",
       "      <th>gastos_ult_12m</th>\n",
       "      <th>limite_credito_tc</th>\n",
       "      <th>antiguedad_cliente</th>\n",
       "      <th>ingresos</th>\n",
       "      <th>pct_ingreso</th>\n",
       "      <th>edad</th>\n",
       "      <th>estado_civil_N</th>\n",
       "      <th>estado_credito_N</th>\n",
       "      <th>importe_solicitado</th>\n",
       "      <th>duracion_credito</th>\n",
       "      <th>situacion_vivienda</th>\n",
       "      <th>objetivo_credito</th>\n",
       "      <th>estado_credito</th>\n",
       "      <th>falta_pago</th>\n",
       "      <th>estado_civil</th>\n",
       "      <th>estado_cliente</th>\n",
       "      <th>genero</th>\n",
       "      <th>nivel_educativo</th>\n",
       "      <th>personas_a_cargo</th>\n",
       "    </tr>\n",
       "  </thead>\n",
       "  <tbody>\n",
       "    <tr>\n",
       "      <th>0</th>\n",
       "      <td>mayor_100</td>\n",
       "      <td>mayor_10k</td>\n",
       "      <td>3k_a_5k</td>\n",
       "      <td>2y_a_4y</td>\n",
       "      <td>50k_a_100k</td>\n",
       "      <td>hasta_20</td>\n",
       "      <td>menor_25</td>\n",
       "      <td>C</td>\n",
       "      <td>C</td>\n",
       "      <td>11000</td>\n",
       "      <td>3</td>\n",
       "      <td>HIPOTECA</td>\n",
       "      <td>INVERSIONES</td>\n",
       "      <td>0</td>\n",
       "      <td>N</td>\n",
       "      <td>CASADO</td>\n",
       "      <td>ACTIVO</td>\n",
       "      <td>F</td>\n",
       "      <td>SECUNDARIO_COMPLETO</td>\n",
       "      <td>3.0</td>\n",
       "    </tr>\n",
       "    <tr>\n",
       "      <th>1</th>\n",
       "      <td>15_a_30</td>\n",
       "      <td>menor_1k</td>\n",
       "      <td>3k_a_5k</td>\n",
       "      <td>2y_a_4y</td>\n",
       "      <td>20k_a_50k</td>\n",
       "      <td>hasta_20</td>\n",
       "      <td>menor_25</td>\n",
       "      <td>S</td>\n",
       "      <td>P</td>\n",
       "      <td>1500</td>\n",
       "      <td>2</td>\n",
       "      <td>ALQUILER</td>\n",
       "      <td>MEJORAS_HOGAR</td>\n",
       "      <td>1</td>\n",
       "      <td>Y</td>\n",
       "      <td>SOLTERO</td>\n",
       "      <td>PASIVO</td>\n",
       "      <td>M</td>\n",
       "      <td>DESCONOCIDO</td>\n",
       "      <td>0.0</td>\n",
       "    </tr>\n",
       "    <tr>\n",
       "      <th>2</th>\n",
       "      <td>15_a_30</td>\n",
       "      <td>2k_a_4k</td>\n",
       "      <td>5k_a_10k</td>\n",
       "      <td>2y_a_4y</td>\n",
       "      <td>20k_a_50k</td>\n",
       "      <td>20_a_40</td>\n",
       "      <td>menor_25</td>\n",
       "      <td>D</td>\n",
       "      <td>C</td>\n",
       "      <td>10000</td>\n",
       "      <td>2</td>\n",
       "      <td>OTROS</td>\n",
       "      <td>EDUCACIÓN</td>\n",
       "      <td>0</td>\n",
       "      <td>Y</td>\n",
       "      <td>DIVORCIADO</td>\n",
       "      <td>PASIVO</td>\n",
       "      <td>M</td>\n",
       "      <td>POSGRADO_COMPLETO</td>\n",
       "      <td>3.0</td>\n",
       "    </tr>\n",
       "    <tr>\n",
       "      <th>3</th>\n",
       "      <td>75_a_100</td>\n",
       "      <td>2k_a_4k</td>\n",
       "      <td>menor_3k</td>\n",
       "      <td>menor_2y</td>\n",
       "      <td>20k_a_50k</td>\n",
       "      <td>20_a_40</td>\n",
       "      <td>25_a_30</td>\n",
       "      <td>S</td>\n",
       "      <td>C</td>\n",
       "      <td>6000</td>\n",
       "      <td>4</td>\n",
       "      <td>ALQUILER</td>\n",
       "      <td>INVERSIONES</td>\n",
       "      <td>0</td>\n",
       "      <td>N</td>\n",
       "      <td>SOLTERO</td>\n",
       "      <td>ACTIVO</td>\n",
       "      <td>F</td>\n",
       "      <td>UNIVERSITARIO_INCOMPLETO</td>\n",
       "      <td>2.0</td>\n",
       "    </tr>\n",
       "    <tr>\n",
       "      <th>4</th>\n",
       "      <td>50_a_75</td>\n",
       "      <td>4k_a_6k</td>\n",
       "      <td>3k_a_5k</td>\n",
       "      <td>2y_a_4y</td>\n",
       "      <td>50k_a_100k</td>\n",
       "      <td>20_a_40</td>\n",
       "      <td>25_a_30</td>\n",
       "      <td>C</td>\n",
       "      <td>C</td>\n",
       "      <td>10000</td>\n",
       "      <td>2</td>\n",
       "      <td>HIPOTECA</td>\n",
       "      <td>EDUCACIÓN</td>\n",
       "      <td>0</td>\n",
       "      <td>N</td>\n",
       "      <td>CASADO</td>\n",
       "      <td>ACTIVO</td>\n",
       "      <td>F</td>\n",
       "      <td>UNIVERSITARIO_INCOMPLETO</td>\n",
       "      <td>2.0</td>\n",
       "    </tr>\n",
       "  </tbody>\n",
       "</table>\n",
       "</div>"
      ],
      "text/plain": [
       "  operaciones_ult_12m gastos_ult_12m limite_credito_tc antiguedad_cliente  \\\n",
       "0           mayor_100      mayor_10k           3k_a_5k            2y_a_4y   \n",
       "1             15_a_30       menor_1k           3k_a_5k            2y_a_4y   \n",
       "2             15_a_30        2k_a_4k          5k_a_10k            2y_a_4y   \n",
       "3            75_a_100        2k_a_4k          menor_3k           menor_2y   \n",
       "4             50_a_75        4k_a_6k           3k_a_5k            2y_a_4y   \n",
       "\n",
       "     ingresos pct_ingreso      edad estado_civil_N estado_credito_N  \\\n",
       "0  50k_a_100k    hasta_20  menor_25              C                C   \n",
       "1   20k_a_50k    hasta_20  menor_25              S                P   \n",
       "2   20k_a_50k     20_a_40  menor_25              D                C   \n",
       "3   20k_a_50k     20_a_40   25_a_30              S                C   \n",
       "4  50k_a_100k     20_a_40   25_a_30              C                C   \n",
       "\n",
       "   importe_solicitado  duracion_credito situacion_vivienda objetivo_credito  \\\n",
       "0               11000                 3           HIPOTECA      INVERSIONES   \n",
       "1                1500                 2           ALQUILER    MEJORAS_HOGAR   \n",
       "2               10000                 2              OTROS        EDUCACIÓN   \n",
       "3                6000                 4           ALQUILER      INVERSIONES   \n",
       "4               10000                 2           HIPOTECA        EDUCACIÓN   \n",
       "\n",
       "   estado_credito falta_pago estado_civil estado_cliente genero  \\\n",
       "0               0          N       CASADO         ACTIVO      F   \n",
       "1               1          Y      SOLTERO         PASIVO      M   \n",
       "2               0          Y   DIVORCIADO         PASIVO      M   \n",
       "3               0          N      SOLTERO         ACTIVO      F   \n",
       "4               0          N       CASADO         ACTIVO      F   \n",
       "\n",
       "            nivel_educativo  personas_a_cargo  \n",
       "0       SECUNDARIO_COMPLETO               3.0  \n",
       "1               DESCONOCIDO               0.0  \n",
       "2         POSGRADO_COMPLETO               3.0  \n",
       "3  UNIVERSITARIO_INCOMPLETO               2.0  \n",
       "4  UNIVERSITARIO_INCOMPLETO               2.0  "
      ]
     },
     "execution_count": 33,
     "metadata": {},
     "output_type": "execute_result"
    }
   ],
   "source": [
    "col_eliminar_final = [\n",
    "              'edad',\n",
    "              'regla_2',\n",
    "              'antiguedad_cliente', \n",
    "              'ingresos',\n",
    "              'pct_ingreso', \n",
    "              'regla_pct_ingresos',\n",
    "              'gastos_ult_12m', \n",
    "              'limite_credito_tc', \n",
    "              'operaciones_ult_12m',\n",
    "              'id_cliente']\n",
    "\n",
    "df_integrado.drop(col_eliminar_final, inplace=True, axis=1)\n",
    "\n",
    "\n",
    "df_final = pd.concat([operaciones_ult_12m_N, gastos_ult_12m_N, limite_credito_tc_N, antiguedad_cliente_N, ingresos_N, pct_ingreso_N, edad_N, df_integrado], axis=1)\n",
    "df_final.head(5)\n"
   ]
  },
  {
   "cell_type": "code",
   "execution_count": 34,
   "metadata": {},
   "outputs": [],
   "source": [
    "col_eliminar_final_N = [\n",
    "              'estado_credito',\n",
    "              'estado_civil',]\n",
    "\n",
    "df_final.drop(col_eliminar_final_N, inplace=True, axis=1)"
   ]
  },
  {
   "cell_type": "markdown",
   "metadata": {},
   "source": [
    "Exportación de metadatos"
   ]
  },
  {
   "cell_type": "code",
   "execution_count": 35,
   "metadata": {},
   "outputs": [],
   "source": [
    "import dtale as dt\n",
    "\n",
    "informe = dt.show(df_final)\n",
    "informe.open_browser()"
   ]
  },
  {
   "cell_type": "markdown",
   "metadata": {},
   "source": [
    "Exportación del dataset"
   ]
  },
  {
   "cell_type": "code",
   "execution_count": 36,
   "metadata": {},
   "outputs": [
    {
     "name": "stderr",
     "output_type": "stream",
     "text": [
      "2023-12-03 16:48:25,983 - ERROR    - Exception occurred while processing request: Cannot setitem on a Categorical with a new category (Missing), set the categories first\n",
      "Traceback (most recent call last):\n",
      "  File \"c:\\Users\\shaq4\\anaconda3\\envs\\viu-13mbid\\Lib\\site-packages\\dtale\\views.py\", line 119, in _handle_exceptions\n",
      "    return func(*args, **kwargs)\n",
      "           ^^^^^^^^^^^^^^^^^^^^^\n",
      "  File \"c:\\Users\\shaq4\\anaconda3\\envs\\viu-13mbid\\Lib\\site-packages\\dtale\\views.py\", line 3102, in get_column_analysis\n",
      "    return jsonify(**analysis.build())\n",
      "                     ^^^^^^^^^^^^^^^^\n",
      "  File \"c:\\Users\\shaq4\\anaconda3\\envs\\viu-13mbid\\Lib\\site-packages\\dtale\\column_analysis.py\", line 142, in build\n",
      "    return_data, code = self.analysis.build(self)\n",
      "                        ^^^^^^^^^^^^^^^^^^^^^^^^^\n",
      "  File \"c:\\Users\\shaq4\\anaconda3\\envs\\viu-13mbid\\Lib\\site-packages\\dtale\\column_analysis.py\", line 697, in build\n",
      "    parent.data[parent.selected_col].fillna(\"Missing\"), self.cleaners\n",
      "    ^^^^^^^^^^^^^^^^^^^^^^^^^^^^^^^^^^^^^^^^^^^^^^^^^^\n",
      "  File \"c:\\Users\\shaq4\\anaconda3\\envs\\viu-13mbid\\Lib\\site-packages\\pandas\\core\\series.py\", line 5145, in fillna\n",
      "    return super().fillna(\n",
      "           ^^^^^^^^^^^^^^^\n",
      "  File \"c:\\Users\\shaq4\\anaconda3\\envs\\viu-13mbid\\Lib\\site-packages\\pandas\\core\\generic.py\", line 6904, in fillna\n",
      "    new_data = self._mgr.fillna(\n",
      "               ^^^^^^^^^^^^^^^^^\n",
      "  File \"c:\\Users\\shaq4\\anaconda3\\envs\\viu-13mbid\\Lib\\site-packages\\pandas\\core\\internals\\managers.py\", line 433, in fillna\n",
      "    return self.apply(\n",
      "           ^^^^^^^^^^^\n",
      "  File \"c:\\Users\\shaq4\\anaconda3\\envs\\viu-13mbid\\Lib\\site-packages\\pandas\\core\\internals\\managers.py\", line 352, in apply\n",
      "    applied = getattr(b, f)(**kwargs)\n",
      "              ^^^^^^^^^^^^^^^^^^^^^^^\n",
      "  File \"c:\\Users\\shaq4\\anaconda3\\envs\\viu-13mbid\\Lib\\site-packages\\pandas\\core\\internals\\blocks.py\", line 1868, in fillna\n",
      "    new_values = self.values.fillna(value=value, method=None, limit=limit)\n",
      "                 ^^^^^^^^^^^^^^^^^^^^^^^^^^^^^^^^^^^^^^^^^^^^^^^^^^^^^^^^^\n",
      "  File \"c:\\Users\\shaq4\\anaconda3\\envs\\viu-13mbid\\Lib\\site-packages\\pandas\\core\\arrays\\_mixins.py\", line 328, in fillna\n",
      "    self._validate_setitem_value(value)\n",
      "  File \"c:\\Users\\shaq4\\anaconda3\\envs\\viu-13mbid\\Lib\\site-packages\\pandas\\core\\arrays\\categorical.py\", line 1297, in _validate_setitem_value\n",
      "    return self._validate_scalar(value)\n",
      "           ^^^^^^^^^^^^^^^^^^^^^^^^^^^^\n",
      "  File \"c:\\Users\\shaq4\\anaconda3\\envs\\viu-13mbid\\Lib\\site-packages\\pandas\\core\\arrays\\categorical.py\", line 1322, in _validate_scalar\n",
      "    raise TypeError(\n",
      "TypeError: Cannot setitem on a Categorical with a new category (Missing), set the categories first\n",
      "2023-12-03 17:06:56,541 - ERROR    - Exception occurred while processing request: Can only use .str accessor with string values!\n",
      "Traceback (most recent call last):\n",
      "  File \"c:\\Users\\shaq4\\anaconda3\\envs\\viu-13mbid\\Lib\\site-packages\\dtale\\views.py\", line 119, in _handle_exceptions\n",
      "    return func(*args, **kwargs)\n",
      "           ^^^^^^^^^^^^^^^^^^^^^\n",
      "  File \"c:\\Users\\shaq4\\anaconda3\\envs\\viu-13mbid\\Lib\\site-packages\\dtale\\views.py\", line 3102, in get_column_analysis\n",
      "    return jsonify(**analysis.build())\n",
      "                     ^^^^^^^^^^^^^^^^\n",
      "  File \"c:\\Users\\shaq4\\anaconda3\\envs\\viu-13mbid\\Lib\\site-packages\\dtale\\column_analysis.py\", line 142, in build\n",
      "    return_data, code = self.analysis.build(self)\n",
      "                        ^^^^^^^^^^^^^^^^^^^^^^^^^\n",
      "  File \"c:\\Users\\shaq4\\anaconda3\\envs\\viu-13mbid\\Lib\\site-packages\\dtale\\column_analysis.py\", line 458, in build\n",
      "    hist = self.build_hist(s, code)\n",
      "           ^^^^^^^^^^^^^^^^^^^^^^^^\n",
      "  File \"c:\\Users\\shaq4\\anaconda3\\envs\\viu-13mbid\\Lib\\site-packages\\dtale\\column_analysis.py\", line 512, in build_hist\n",
      "    pd.value_counts(s.str.split(expand=True).stack())\n",
      "                    ^^^^^\n",
      "  File \"c:\\Users\\shaq4\\anaconda3\\envs\\viu-13mbid\\Lib\\site-packages\\pandas\\core\\generic.py\", line 5989, in __getattr__\n",
      "    return object.__getattribute__(self, name)\n",
      "           ^^^^^^^^^^^^^^^^^^^^^^^^^^^^^^^^^^^\n",
      "  File \"c:\\Users\\shaq4\\anaconda3\\envs\\viu-13mbid\\Lib\\site-packages\\pandas\\core\\accessor.py\", line 224, in __get__\n",
      "    accessor_obj = self._accessor(obj)\n",
      "                   ^^^^^^^^^^^^^^^^^^^\n",
      "  File \"c:\\Users\\shaq4\\anaconda3\\envs\\viu-13mbid\\Lib\\site-packages\\pandas\\core\\strings\\accessor.py\", line 181, in __init__\n",
      "    self._inferred_dtype = self._validate(data)\n",
      "                           ^^^^^^^^^^^^^^^^^^^^\n",
      "  File \"c:\\Users\\shaq4\\anaconda3\\envs\\viu-13mbid\\Lib\\site-packages\\pandas\\core\\strings\\accessor.py\", line 235, in _validate\n",
      "    raise AttributeError(\"Can only use .str accessor with string values!\")\n",
      "AttributeError: Can only use .str accessor with string values!\n",
      "2023-12-03 17:12:18,030 - ERROR    - Exception occurred while processing request: ufunc 'isfinite' not supported for the input types, and the inputs could not be safely coerced to any supported types according to the casting rule ''safe''\n",
      "Traceback (most recent call last):\n",
      "  File \"c:\\Users\\shaq4\\anaconda3\\envs\\viu-13mbid\\Lib\\site-packages\\dtale\\views.py\", line 119, in _handle_exceptions\n",
      "    return func(*args, **kwargs)\n",
      "           ^^^^^^^^^^^^^^^^^^^^^\n",
      "  File \"c:\\Users\\shaq4\\anaconda3\\envs\\viu-13mbid\\Lib\\site-packages\\dtale\\views.py\", line 3102, in get_column_analysis\n",
      "    return jsonify(**analysis.build())\n",
      "                     ^^^^^^^^^^^^^^^^\n",
      "  File \"c:\\Users\\shaq4\\anaconda3\\envs\\viu-13mbid\\Lib\\site-packages\\dtale\\column_analysis.py\", line 142, in build\n",
      "    return_data, code = self.analysis.build(self)\n",
      "                        ^^^^^^^^^^^^^^^^^^^^^^^^^\n",
      "  File \"c:\\Users\\shaq4\\anaconda3\\envs\\viu-13mbid\\Lib\\site-packages\\dtale\\column_analysis.py\", line 186, in build\n",
      "    return_data, hist_labels = self.build_histogram_data(\n",
      "                               ^^^^^^^^^^^^^^^^^^^^^^^^^^\n",
      "  File \"c:\\Users\\shaq4\\anaconda3\\envs\\viu-13mbid\\Lib\\site-packages\\dtale\\column_analysis.py\", line 162, in build_histogram_data\n",
      "    hist_data, hist_labels = np.histogram(series, **hist_kwargs)\n",
      "                             ^^^^^^^^^^^^^^^^^^^^^^^^^^^^^^^^^^^\n",
      "  File \"<__array_function__ internals>\", line 200, in histogram\n",
      "  File \"c:\\Users\\shaq4\\anaconda3\\envs\\viu-13mbid\\Lib\\site-packages\\numpy\\lib\\histograms.py\", line 780, in histogram\n",
      "    bin_edges, uniform_bins = _get_bin_edges(a, bins, range, weights)\n",
      "                              ^^^^^^^^^^^^^^^^^^^^^^^^^^^^^^^^^^^^^^^\n",
      "  File \"c:\\Users\\shaq4\\anaconda3\\envs\\viu-13mbid\\Lib\\site-packages\\numpy\\lib\\histograms.py\", line 426, in _get_bin_edges\n",
      "    first_edge, last_edge = _get_outer_edges(a, range)\n",
      "                            ^^^^^^^^^^^^^^^^^^^^^^^^^^\n",
      "  File \"c:\\Users\\shaq4\\anaconda3\\envs\\viu-13mbid\\Lib\\site-packages\\numpy\\lib\\histograms.py\", line 322, in _get_outer_edges\n",
      "    if not (np.isfinite(first_edge) and np.isfinite(last_edge)):\n",
      "            ^^^^^^^^^^^^^^^^^^^^^^^\n",
      "TypeError: ufunc 'isfinite' not supported for the input types, and the inputs could not be safely coerced to any supported types according to the casting rule ''safe''\n",
      "2023-12-03 17:21:21,917 - ERROR    - Exception occurred while processing request: Can only use .str accessor with string values!\n",
      "Traceback (most recent call last):\n",
      "  File \"c:\\Users\\shaq4\\anaconda3\\envs\\viu-13mbid\\Lib\\site-packages\\dtale\\views.py\", line 119, in _handle_exceptions\n",
      "    return func(*args, **kwargs)\n",
      "           ^^^^^^^^^^^^^^^^^^^^^\n",
      "  File \"c:\\Users\\shaq4\\anaconda3\\envs\\viu-13mbid\\Lib\\site-packages\\dtale\\views.py\", line 3102, in get_column_analysis\n",
      "    return jsonify(**analysis.build())\n",
      "                     ^^^^^^^^^^^^^^^^\n",
      "  File \"c:\\Users\\shaq4\\anaconda3\\envs\\viu-13mbid\\Lib\\site-packages\\dtale\\column_analysis.py\", line 142, in build\n",
      "    return_data, code = self.analysis.build(self)\n",
      "                        ^^^^^^^^^^^^^^^^^^^^^^^^^\n",
      "  File \"c:\\Users\\shaq4\\anaconda3\\envs\\viu-13mbid\\Lib\\site-packages\\dtale\\column_analysis.py\", line 458, in build\n",
      "    hist = self.build_hist(s, code)\n",
      "           ^^^^^^^^^^^^^^^^^^^^^^^^\n",
      "  File \"c:\\Users\\shaq4\\anaconda3\\envs\\viu-13mbid\\Lib\\site-packages\\dtale\\column_analysis.py\", line 512, in build_hist\n",
      "    pd.value_counts(s.str.split(expand=True).stack())\n",
      "                    ^^^^^\n",
      "  File \"c:\\Users\\shaq4\\anaconda3\\envs\\viu-13mbid\\Lib\\site-packages\\pandas\\core\\generic.py\", line 5989, in __getattr__\n",
      "    return object.__getattribute__(self, name)\n",
      "           ^^^^^^^^^^^^^^^^^^^^^^^^^^^^^^^^^^^\n",
      "  File \"c:\\Users\\shaq4\\anaconda3\\envs\\viu-13mbid\\Lib\\site-packages\\pandas\\core\\accessor.py\", line 224, in __get__\n",
      "    accessor_obj = self._accessor(obj)\n",
      "                   ^^^^^^^^^^^^^^^^^^^\n",
      "  File \"c:\\Users\\shaq4\\anaconda3\\envs\\viu-13mbid\\Lib\\site-packages\\pandas\\core\\strings\\accessor.py\", line 181, in __init__\n",
      "    self._inferred_dtype = self._validate(data)\n",
      "                           ^^^^^^^^^^^^^^^^^^^^\n",
      "  File \"c:\\Users\\shaq4\\anaconda3\\envs\\viu-13mbid\\Lib\\site-packages\\pandas\\core\\strings\\accessor.py\", line 235, in _validate\n",
      "    raise AttributeError(\"Can only use .str accessor with string values!\")\n",
      "AttributeError: Can only use .str accessor with string values!\n",
      "2023-12-03 23:33:13,422 - INFO     - Executing shutdown due to inactivity...\n",
      "2023-12-03 23:33:17,691 - INFO     - Executing shutdown...\n",
      "2023-12-03 23:33:17,706 - INFO     - Not running with the Werkzeug Server, exiting by searching gc for BaseWSGIServer\n"
     ]
    }
   ],
   "source": [
    "df_final.to_csv(\"../../data/final/datos_finales.csv\", sep=';', index=False)"
   ]
  }
 ],
 "metadata": {
  "kernelspec": {
   "display_name": "data",
   "language": "python",
   "name": "python3"
  },
  "language_info": {
   "codemirror_mode": {
    "name": "ipython",
    "version": 3
   },
   "file_extension": ".py",
   "mimetype": "text/x-python",
   "name": "python",
   "nbconvert_exporter": "python",
   "pygments_lexer": "ipython3",
   "version": "3.11.5"
  }
 },
 "nbformat": 4,
 "nbformat_minor": 2
}
